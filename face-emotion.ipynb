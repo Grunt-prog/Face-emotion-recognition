{
  "nbformat": 4,
  "nbformat_minor": 0,
  "metadata": {
    "colab": {
      "provenance": [],
      "gpuType": "T4"
    },
    "kernelspec": {
      "name": "python3",
      "display_name": "Python 3"
    },
    "language_info": {
      "name": "python"
    },
    "accelerator": "GPU"
  },
  "cells": [
    {
      "cell_type": "code",
      "execution_count": null,
      "metadata": {
        "id": "1mTc2u06rur6",
        "colab": {
          "base_uri": "https://localhost:8080/"
        },
        "outputId": "aad44450-40ae-425a-fb38-31793706cbc3"
      },
      "outputs": [
        {
          "output_type": "stream",
          "name": "stdout",
          "text": [
            "Drive already mounted at /content/drive; to attempt to forcibly remount, call drive.mount(\"/content/drive\", force_remount=True).\n"
          ]
        }
      ],
      "source": [
        "from google.colab import drive\n",
        "drive.mount('/content/drive')"
      ]
    },
    {
      "cell_type": "code",
      "source": [
        "!cp -r '/content/train/angry' '/content/drive/MyDrive/dataset/faceemotion/train/angry'"
      ],
      "metadata": {
        "id": "fo3XcCZAyy_U"
      },
      "execution_count": null,
      "outputs": []
    },
    {
      "cell_type": "code",
      "source": [
        "!nvidia-smi"
      ],
      "metadata": {
        "colab": {
          "base_uri": "https://localhost:8080/"
        },
        "id": "HfEJCcQGzdW9",
        "outputId": "98a040fd-2978-464c-9722-24e779f03c4a"
      },
      "execution_count": null,
      "outputs": [
        {
          "output_type": "stream",
          "name": "stdout",
          "text": [
            "Sun Jul 16 22:34:08 2023       \n",
            "+-----------------------------------------------------------------------------+\n",
            "| NVIDIA-SMI 525.105.17   Driver Version: 525.105.17   CUDA Version: 12.0     |\n",
            "|-------------------------------+----------------------+----------------------+\n",
            "| GPU  Name        Persistence-M| Bus-Id        Disp.A | Volatile Uncorr. ECC |\n",
            "| Fan  Temp  Perf  Pwr:Usage/Cap|         Memory-Usage | GPU-Util  Compute M. |\n",
            "|                               |                      |               MIG M. |\n",
            "|===============================+======================+======================|\n",
            "|   0  Tesla T4            Off  | 00000000:00:04.0 Off |                    0 |\n",
            "| N/A   47C    P8    11W /  70W |      0MiB / 15360MiB |      0%      Default |\n",
            "|                               |                      |                  N/A |\n",
            "+-------------------------------+----------------------+----------------------+\n",
            "                                                                               \n",
            "+-----------------------------------------------------------------------------+\n",
            "| Processes:                                                                  |\n",
            "|  GPU   GI   CI        PID   Type   Process name                  GPU Memory |\n",
            "|        ID   ID                                                   Usage      |\n",
            "|=============================================================================|\n",
            "|  No running processes found                                                 |\n",
            "+-----------------------------------------------------------------------------+\n"
          ]
        }
      ]
    },
    {
      "cell_type": "code",
      "source": [
        "#importing required libraries\n",
        "from keras.models import Sequential\n",
        "from keras.layers import Conv2D, MaxPooling2D, Dense, Dropout, Flatten\n",
        "from keras.optimizers import Adam\n",
        "from keras.preprocessing.image import ImageDataGenerator"
      ],
      "metadata": {
        "id": "wmactxtZ1u9s"
      },
      "execution_count": null,
      "outputs": []
    },
    {
      "cell_type": "code",
      "source": [
        "# initializing image data generators with rescaling\n",
        "train_data_gen = ImageDataGenerator(rescale=1./255)\n",
        "test_data_gen = ImageDataGenerator(rescale=1./255)"
      ],
      "metadata": {
        "id": "zY3L-_iq1xsr"
      },
      "execution_count": null,
      "outputs": []
    },
    {
      "cell_type": "code",
      "source": [
        "#creating model structure\n",
        "#1rst layer\n",
        "emotion_model = Sequential()\n",
        "emotion_model.add(Conv2D(32, kernel_size = (3,3), activation = 'relu', input_shape = (48,48,1)))\n",
        "emotion_model.add(Conv2D(64, kernel_size = (3,3), activation = 'relu'))\n",
        "emotion_model.add(MaxPooling2D(pool_size = (2,2)))\n",
        "emotion_model.add(Dropout(0.25))"
      ],
      "metadata": {
        "id": "mSD3s2OX1zXM"
      },
      "execution_count": null,
      "outputs": []
    },
    {
      "cell_type": "code",
      "source": [
        "#preprocessing test images\n",
        "test_generator = test_data_gen.flow_from_directory(\n",
        "    '/content/dataset/test',\n",
        "    target_size = (48,48),\n",
        "    batch_size = 64,\n",
        "    color_mode = \"grayscale\",\n",
        "    class_mode = 'categorical'\n",
        ")"
      ],
      "metadata": {
        "colab": {
          "base_uri": "https://localhost:8080/"
        },
        "id": "Pg0RHTcO105y",
        "outputId": "7f6ca2af-7549-43f3-ebf0-fffe016e3e68"
      },
      "execution_count": null,
      "outputs": [
        {
          "output_type": "stream",
          "name": "stdout",
          "text": [
            "Found 7178 images belonging to 7 classes.\n"
          ]
        }
      ]
    },
    {
      "cell_type": "code",
      "source": [
        "#preprocessing train images\n",
        "train_generator = train_data_gen.flow_from_directory(\n",
        "    '/content/dataset/train',\n",
        "    target_size = (48,48),\n",
        "    batch_size = 64,\n",
        "    color_mode = \"grayscale\",\n",
        "    class_mode = 'categorical'\n",
        ")"
      ],
      "metadata": {
        "colab": {
          "base_uri": "https://localhost:8080/"
        },
        "id": "-P1aJlvt1_Vb",
        "outputId": "21269209-ba25-4b3d-d15a-67b70c4a3ed3"
      },
      "execution_count": null,
      "outputs": [
        {
          "output_type": "stream",
          "name": "stdout",
          "text": [
            "Found 28709 images belonging to 7 classes.\n"
          ]
        }
      ]
    },
    {
      "cell_type": "code",
      "source": [
        "#2nd layer\n",
        "emotion_model.add(Conv2D(128, kernel_size = (3,3), activation = 'relu'))\n",
        "emotion_model.add(MaxPooling2D(pool_size = (2,2)))\n",
        "emotion_model.add(Conv2D(128, kernel_size = (3,3), activation = 'relu'))\n",
        "emotion_model.add(MaxPooling2D(pool_size = (2,2)))\n",
        "emotion_model.add(Dropout(0.25))"
      ],
      "metadata": {
        "id": "q7wv9sv22Fz-"
      },
      "execution_count": null,
      "outputs": []
    },
    {
      "cell_type": "code",
      "source": [
        "#flattening\n",
        "emotion_model.add(Flatten())\n",
        "emotion_model.add(Dense(1024, activation = 'relu'))\n",
        "emotion_model.add(Dropout(0.5))\n",
        "emotion_model.add(Dense(7,activation = 'softmax'))"
      ],
      "metadata": {
        "id": "9Q5I6WAO2Hua"
      },
      "execution_count": null,
      "outputs": []
    },
    {
      "cell_type": "code",
      "source": [
        "#compiling\n",
        "emotion_model.compile(loss = 'categorical_crossentropy', optimizer = Adam(learning_rate = 0.0001, decay = 1e-6), metrics = ['accuracy'])"
      ],
      "metadata": {
        "id": "KclBBP9K2Jmp"
      },
      "execution_count": null,
      "outputs": []
    },
    {
      "cell_type": "code",
      "source": [
        "#training\n",
        "emotional_model_info = emotion_model.fit_generator(\n",
        "    train_generator,\n",
        "    steps_per_epoch = 28709//64,\n",
        "    validation_steps = 7178//64,\n",
        "    epochs = 50,\n",
        "    validation_data = test_generator,\n",
        ")"
      ],
      "metadata": {
        "colab": {
          "base_uri": "https://localhost:8080/"
        },
        "id": "78hPxj6h2LKc",
        "outputId": "c7741d22-20c4-4309-b81e-b055c9c91a93"
      },
      "execution_count": null,
      "outputs": [
        {
          "output_type": "stream",
          "name": "stderr",
          "text": [
            "<ipython-input-26-049a23299316>:2: UserWarning: `Model.fit_generator` is deprecated and will be removed in a future version. Please use `Model.fit`, which supports generators.\n",
            "  emotional_model_info = emotion_model.fit_generator(\n"
          ]
        },
        {
          "output_type": "stream",
          "name": "stdout",
          "text": [
            "Epoch 1/50\n",
            "448/448 [==============================] - 35s 50ms/step - loss: 1.7987 - accuracy: 0.2602 - val_loss: 1.6926 - val_accuracy: 0.3541\n",
            "Epoch 2/50\n",
            "448/448 [==============================] - 19s 43ms/step - loss: 1.6179 - accuracy: 0.3734 - val_loss: 1.5277 - val_accuracy: 0.4184\n",
            "Epoch 3/50\n",
            "448/448 [==============================] - 19s 42ms/step - loss: 1.5159 - accuracy: 0.4164 - val_loss: 1.4524 - val_accuracy: 0.4428\n",
            "Epoch 4/50\n",
            "448/448 [==============================] - 18s 41ms/step - loss: 1.4514 - accuracy: 0.4422 - val_loss: 1.4182 - val_accuracy: 0.4604\n",
            "Epoch 5/50\n",
            "448/448 [==============================] - 21s 48ms/step - loss: 1.3908 - accuracy: 0.4679 - val_loss: 1.3428 - val_accuracy: 0.4863\n",
            "Epoch 6/50\n",
            "448/448 [==============================] - 22s 48ms/step - loss: 1.3393 - accuracy: 0.4929 - val_loss: 1.3049 - val_accuracy: 0.5061\n",
            "Epoch 7/50\n",
            "448/448 [==============================] - 21s 46ms/step - loss: 1.2957 - accuracy: 0.5078 - val_loss: 1.2746 - val_accuracy: 0.5134\n",
            "Epoch 8/50\n",
            "448/448 [==============================] - 21s 47ms/step - loss: 1.2559 - accuracy: 0.5244 - val_loss: 1.2541 - val_accuracy: 0.5172\n",
            "Epoch 9/50\n",
            "448/448 [==============================] - 19s 41ms/step - loss: 1.2235 - accuracy: 0.5412 - val_loss: 1.2159 - val_accuracy: 0.5338\n",
            "Epoch 10/50\n",
            "448/448 [==============================] - 21s 47ms/step - loss: 1.1900 - accuracy: 0.5548 - val_loss: 1.1951 - val_accuracy: 0.5498\n",
            "Epoch 11/50\n",
            "448/448 [==============================] - 21s 46ms/step - loss: 1.1592 - accuracy: 0.5602 - val_loss: 1.1807 - val_accuracy: 0.5525\n",
            "Epoch 12/50\n",
            "448/448 [==============================] - 21s 46ms/step - loss: 1.1331 - accuracy: 0.5752 - val_loss: 1.1683 - val_accuracy: 0.5568\n",
            "Epoch 13/50\n",
            "448/448 [==============================] - 21s 47ms/step - loss: 1.1090 - accuracy: 0.5867 - val_loss: 1.1526 - val_accuracy: 0.5656\n",
            "Epoch 14/50\n",
            "448/448 [==============================] - 21s 46ms/step - loss: 1.0857 - accuracy: 0.5934 - val_loss: 1.1376 - val_accuracy: 0.5727\n",
            "Epoch 15/50\n",
            "448/448 [==============================] - 20s 46ms/step - loss: 1.0578 - accuracy: 0.6046 - val_loss: 1.1280 - val_accuracy: 0.5811\n",
            "Epoch 16/50\n",
            "448/448 [==============================] - 21s 46ms/step - loss: 1.0326 - accuracy: 0.6168 - val_loss: 1.1213 - val_accuracy: 0.5836\n",
            "Epoch 17/50\n",
            "448/448 [==============================] - 21s 46ms/step - loss: 1.0116 - accuracy: 0.6246 - val_loss: 1.1020 - val_accuracy: 0.5880\n",
            "Epoch 18/50\n",
            "448/448 [==============================] - 21s 46ms/step - loss: 0.9842 - accuracy: 0.6339 - val_loss: 1.0959 - val_accuracy: 0.5908\n",
            "Epoch 19/50\n",
            "448/448 [==============================] - 21s 46ms/step - loss: 0.9623 - accuracy: 0.6445 - val_loss: 1.0900 - val_accuracy: 0.5939\n",
            "Epoch 20/50\n",
            "448/448 [==============================] - 19s 42ms/step - loss: 0.9334 - accuracy: 0.6564 - val_loss: 1.0893 - val_accuracy: 0.5946\n",
            "Epoch 21/50\n",
            "448/448 [==============================] - 21s 46ms/step - loss: 0.9144 - accuracy: 0.6615 - val_loss: 1.0953 - val_accuracy: 0.5958\n",
            "Epoch 22/50\n",
            "448/448 [==============================] - 18s 41ms/step - loss: 0.8936 - accuracy: 0.6709 - val_loss: 1.0855 - val_accuracy: 0.5988\n",
            "Epoch 23/50\n",
            "448/448 [==============================] - 20s 45ms/step - loss: 0.8714 - accuracy: 0.6801 - val_loss: 1.0773 - val_accuracy: 0.6017\n",
            "Epoch 24/50\n",
            "448/448 [==============================] - 21s 46ms/step - loss: 0.8437 - accuracy: 0.6895 - val_loss: 1.0702 - val_accuracy: 0.6053\n",
            "Epoch 25/50\n",
            "448/448 [==============================] - 20s 46ms/step - loss: 0.8195 - accuracy: 0.6974 - val_loss: 1.0667 - val_accuracy: 0.6046\n",
            "Epoch 26/50\n",
            "448/448 [==============================] - 21s 47ms/step - loss: 0.7979 - accuracy: 0.7090 - val_loss: 1.0742 - val_accuracy: 0.6122\n",
            "Epoch 27/50\n",
            "448/448 [==============================] - 21s 46ms/step - loss: 0.7754 - accuracy: 0.7153 - val_loss: 1.0656 - val_accuracy: 0.6085\n",
            "Epoch 28/50\n",
            "448/448 [==============================] - 20s 44ms/step - loss: 0.7521 - accuracy: 0.7250 - val_loss: 1.0715 - val_accuracy: 0.6130\n",
            "Epoch 29/50\n",
            "448/448 [==============================] - 21s 48ms/step - loss: 0.7281 - accuracy: 0.7333 - val_loss: 1.0769 - val_accuracy: 0.6094\n",
            "Epoch 30/50\n",
            "448/448 [==============================] - 21s 46ms/step - loss: 0.7017 - accuracy: 0.7432 - val_loss: 1.0746 - val_accuracy: 0.6116\n",
            "Epoch 31/50\n",
            "448/448 [==============================] - 21s 46ms/step - loss: 0.6818 - accuracy: 0.7512 - val_loss: 1.0827 - val_accuracy: 0.6200\n",
            "Epoch 32/50\n",
            "448/448 [==============================] - 21s 46ms/step - loss: 0.6583 - accuracy: 0.7563 - val_loss: 1.0728 - val_accuracy: 0.6166\n",
            "Epoch 33/50\n",
            "448/448 [==============================] - 21s 47ms/step - loss: 0.6363 - accuracy: 0.7653 - val_loss: 1.0799 - val_accuracy: 0.6210\n",
            "Epoch 34/50\n",
            "448/448 [==============================] - 18s 41ms/step - loss: 0.6239 - accuracy: 0.7734 - val_loss: 1.0789 - val_accuracy: 0.6159\n",
            "Epoch 35/50\n",
            "448/448 [==============================] - 21s 47ms/step - loss: 0.6046 - accuracy: 0.7811 - val_loss: 1.0997 - val_accuracy: 0.6196\n",
            "Epoch 36/50\n",
            "448/448 [==============================] - 21s 46ms/step - loss: 0.5767 - accuracy: 0.7921 - val_loss: 1.0942 - val_accuracy: 0.6250\n",
            "Epoch 37/50\n",
            "448/448 [==============================] - 21s 48ms/step - loss: 0.5592 - accuracy: 0.7982 - val_loss: 1.0964 - val_accuracy: 0.6182\n",
            "Epoch 38/50\n",
            "448/448 [==============================] - 18s 40ms/step - loss: 0.5433 - accuracy: 0.8033 - val_loss: 1.0954 - val_accuracy: 0.6210\n",
            "Epoch 39/50\n",
            "448/448 [==============================] - 18s 41ms/step - loss: 0.5287 - accuracy: 0.8082 - val_loss: 1.1061 - val_accuracy: 0.6254\n",
            "Epoch 40/50\n",
            "448/448 [==============================] - 21s 47ms/step - loss: 0.5030 - accuracy: 0.8170 - val_loss: 1.1256 - val_accuracy: 0.6237\n",
            "Epoch 41/50\n",
            "448/448 [==============================] - 21s 47ms/step - loss: 0.4911 - accuracy: 0.8244 - val_loss: 1.1209 - val_accuracy: 0.6250\n",
            "Epoch 42/50\n",
            "448/448 [==============================] - 19s 43ms/step - loss: 0.4695 - accuracy: 0.8318 - val_loss: 1.1388 - val_accuracy: 0.6242\n",
            "Epoch 43/50\n",
            "448/448 [==============================] - 21s 47ms/step - loss: 0.4543 - accuracy: 0.8368 - val_loss: 1.1387 - val_accuracy: 0.6250\n",
            "Epoch 44/50\n",
            "448/448 [==============================] - 21s 47ms/step - loss: 0.4409 - accuracy: 0.8436 - val_loss: 1.1517 - val_accuracy: 0.6237\n",
            "Epoch 45/50\n",
            "448/448 [==============================] - 21s 46ms/step - loss: 0.4289 - accuracy: 0.8443 - val_loss: 1.1524 - val_accuracy: 0.6271\n",
            "Epoch 46/50\n",
            "448/448 [==============================] - 21s 46ms/step - loss: 0.4150 - accuracy: 0.8505 - val_loss: 1.1743 - val_accuracy: 0.6250\n",
            "Epoch 47/50\n",
            "448/448 [==============================] - 19s 43ms/step - loss: 0.4002 - accuracy: 0.8550 - val_loss: 1.1688 - val_accuracy: 0.6235\n",
            "Epoch 48/50\n",
            "448/448 [==============================] - 18s 41ms/step - loss: 0.3869 - accuracy: 0.8622 - val_loss: 1.1925 - val_accuracy: 0.6249\n",
            "Epoch 49/50\n",
            "448/448 [==============================] - 21s 47ms/step - loss: 0.3688 - accuracy: 0.8650 - val_loss: 1.2096 - val_accuracy: 0.6247\n",
            "Epoch 50/50\n",
            "448/448 [==============================] - 21s 47ms/step - loss: 0.3692 - accuracy: 0.8689 - val_loss: 1.1984 - val_accuracy: 0.6233\n"
          ]
        }
      ]
    },
    {
      "cell_type": "code",
      "source": [
        "#saving the model and weights\n",
        "model_json = emotion_model.to_json()\n",
        "with open(\"emotional_model.json\", \"w\") as json_file:\n",
        "  json_file.write(model_json)\n",
        "print(\"saved\")"
      ],
      "metadata": {
        "colab": {
          "base_uri": "https://localhost:8080/"
        },
        "id": "_no0eRG02NB6",
        "outputId": "1c38d659-ab2f-48e6-df31-32d91a461237"
      },
      "execution_count": null,
      "outputs": [
        {
          "output_type": "stream",
          "name": "stdout",
          "text": [
            "saved\n"
          ]
        }
      ]
    },
    {
      "cell_type": "code",
      "source": [
        "# saving trained model weight in .h5 file\n",
        "emotion_model.save_weights('emotion_model.h5')"
      ],
      "metadata": {
        "id": "HiH_YtsG2RaJ"
      },
      "execution_count": null,
      "outputs": []
    },
    {
      "cell_type": "code",
      "source": [],
      "metadata": {
        "id": "Pt_-_fBc8PvD"
      },
      "execution_count": null,
      "outputs": []
    }
  ]
}